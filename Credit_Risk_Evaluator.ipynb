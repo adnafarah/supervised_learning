{
 "cells": [
  {
   "cell_type": "code",
   "execution_count": 18,
   "metadata": {},
   "outputs": [],
   "source": [
    "import numpy as np\n",
    "import pandas as pd\n",
    "from pathlib import Path\n",
    "from sklearn.model_selection import train_test_split\n",
    "\n",
    "%matplotlib inline\n",
    "import matplotlib.pyplot as plt"
   ]
  },
  {
   "cell_type": "markdown",
   "metadata": {},
   "source": [
    "### My prediction\n",
    "\n",
    "I think the RandomForest Classifier would perform better as it reduces the chances of overfitting due to the random datasets it creates. "
   ]
  },
  {
   "cell_type": "markdown",
   "metadata": {},
   "source": [
    "### Import the data"
   ]
  },
  {
   "cell_type": "code",
   "execution_count": 2,
   "metadata": {},
   "outputs": [
    {
     "data": {
      "text/html": [
       "<div>\n",
       "<style scoped>\n",
       "    .dataframe tbody tr th:only-of-type {\n",
       "        vertical-align: middle;\n",
       "    }\n",
       "\n",
       "    .dataframe tbody tr th {\n",
       "        vertical-align: top;\n",
       "    }\n",
       "\n",
       "    .dataframe thead th {\n",
       "        text-align: right;\n",
       "    }\n",
       "</style>\n",
       "<table border=\"1\" class=\"dataframe\">\n",
       "  <thead>\n",
       "    <tr style=\"text-align: right;\">\n",
       "      <th></th>\n",
       "      <th>loan_size</th>\n",
       "      <th>interest_rate</th>\n",
       "      <th>borrower_income</th>\n",
       "      <th>debt_to_income</th>\n",
       "      <th>num_of_accounts</th>\n",
       "      <th>derogatory_marks</th>\n",
       "      <th>total_debt</th>\n",
       "      <th>loan_status</th>\n",
       "    </tr>\n",
       "  </thead>\n",
       "  <tbody>\n",
       "    <tr>\n",
       "      <th>0</th>\n",
       "      <td>10700.0</td>\n",
       "      <td>7.672</td>\n",
       "      <td>52800</td>\n",
       "      <td>0.431818</td>\n",
       "      <td>5</td>\n",
       "      <td>1</td>\n",
       "      <td>22800</td>\n",
       "      <td>0</td>\n",
       "    </tr>\n",
       "    <tr>\n",
       "      <th>1</th>\n",
       "      <td>8400.0</td>\n",
       "      <td>6.692</td>\n",
       "      <td>43600</td>\n",
       "      <td>0.311927</td>\n",
       "      <td>3</td>\n",
       "      <td>0</td>\n",
       "      <td>13600</td>\n",
       "      <td>0</td>\n",
       "    </tr>\n",
       "    <tr>\n",
       "      <th>2</th>\n",
       "      <td>9000.0</td>\n",
       "      <td>6.963</td>\n",
       "      <td>46100</td>\n",
       "      <td>0.349241</td>\n",
       "      <td>3</td>\n",
       "      <td>0</td>\n",
       "      <td>16100</td>\n",
       "      <td>0</td>\n",
       "    </tr>\n",
       "    <tr>\n",
       "      <th>3</th>\n",
       "      <td>10700.0</td>\n",
       "      <td>7.664</td>\n",
       "      <td>52700</td>\n",
       "      <td>0.430740</td>\n",
       "      <td>5</td>\n",
       "      <td>1</td>\n",
       "      <td>22700</td>\n",
       "      <td>0</td>\n",
       "    </tr>\n",
       "    <tr>\n",
       "      <th>4</th>\n",
       "      <td>10800.0</td>\n",
       "      <td>7.698</td>\n",
       "      <td>53000</td>\n",
       "      <td>0.433962</td>\n",
       "      <td>5</td>\n",
       "      <td>1</td>\n",
       "      <td>23000</td>\n",
       "      <td>0</td>\n",
       "    </tr>\n",
       "    <tr>\n",
       "      <th>...</th>\n",
       "      <td>...</td>\n",
       "      <td>...</td>\n",
       "      <td>...</td>\n",
       "      <td>...</td>\n",
       "      <td>...</td>\n",
       "      <td>...</td>\n",
       "      <td>...</td>\n",
       "      <td>...</td>\n",
       "    </tr>\n",
       "    <tr>\n",
       "      <th>77531</th>\n",
       "      <td>19100.0</td>\n",
       "      <td>11.261</td>\n",
       "      <td>86600</td>\n",
       "      <td>0.653580</td>\n",
       "      <td>12</td>\n",
       "      <td>2</td>\n",
       "      <td>56600</td>\n",
       "      <td>1</td>\n",
       "    </tr>\n",
       "    <tr>\n",
       "      <th>77532</th>\n",
       "      <td>17700.0</td>\n",
       "      <td>10.662</td>\n",
       "      <td>80900</td>\n",
       "      <td>0.629172</td>\n",
       "      <td>11</td>\n",
       "      <td>2</td>\n",
       "      <td>50900</td>\n",
       "      <td>1</td>\n",
       "    </tr>\n",
       "    <tr>\n",
       "      <th>77533</th>\n",
       "      <td>17600.0</td>\n",
       "      <td>10.595</td>\n",
       "      <td>80300</td>\n",
       "      <td>0.626401</td>\n",
       "      <td>11</td>\n",
       "      <td>2</td>\n",
       "      <td>50300</td>\n",
       "      <td>1</td>\n",
       "    </tr>\n",
       "    <tr>\n",
       "      <th>77534</th>\n",
       "      <td>16300.0</td>\n",
       "      <td>10.068</td>\n",
       "      <td>75300</td>\n",
       "      <td>0.601594</td>\n",
       "      <td>10</td>\n",
       "      <td>2</td>\n",
       "      <td>45300</td>\n",
       "      <td>1</td>\n",
       "    </tr>\n",
       "    <tr>\n",
       "      <th>77535</th>\n",
       "      <td>15600.0</td>\n",
       "      <td>9.742</td>\n",
       "      <td>72300</td>\n",
       "      <td>0.585062</td>\n",
       "      <td>9</td>\n",
       "      <td>2</td>\n",
       "      <td>42300</td>\n",
       "      <td>1</td>\n",
       "    </tr>\n",
       "  </tbody>\n",
       "</table>\n",
       "<p>77536 rows × 8 columns</p>\n",
       "</div>"
      ],
      "text/plain": [
       "       loan_size  interest_rate  borrower_income  debt_to_income  \\\n",
       "0        10700.0          7.672            52800        0.431818   \n",
       "1         8400.0          6.692            43600        0.311927   \n",
       "2         9000.0          6.963            46100        0.349241   \n",
       "3        10700.0          7.664            52700        0.430740   \n",
       "4        10800.0          7.698            53000        0.433962   \n",
       "...          ...            ...              ...             ...   \n",
       "77531    19100.0         11.261            86600        0.653580   \n",
       "77532    17700.0         10.662            80900        0.629172   \n",
       "77533    17600.0         10.595            80300        0.626401   \n",
       "77534    16300.0         10.068            75300        0.601594   \n",
       "77535    15600.0          9.742            72300        0.585062   \n",
       "\n",
       "       num_of_accounts  derogatory_marks  total_debt  loan_status  \n",
       "0                    5                 1       22800            0  \n",
       "1                    3                 0       13600            0  \n",
       "2                    3                 0       16100            0  \n",
       "3                    5                 1       22700            0  \n",
       "4                    5                 1       23000            0  \n",
       "...                ...               ...         ...          ...  \n",
       "77531               12                 2       56600            1  \n",
       "77532               11                 2       50900            1  \n",
       "77533               11                 2       50300            1  \n",
       "77534               10                 2       45300            1  \n",
       "77535                9                 2       42300            1  \n",
       "\n",
       "[77536 rows x 8 columns]"
      ]
     },
     "execution_count": 2,
     "metadata": {},
     "output_type": "execute_result"
    }
   ],
   "source": [
    "# Import the data\n",
    "lending_data = pd.read_csv(r'C:\\Users\\adna_\\Desktop\\bootcamp\\supervised_learning\\Resources\\lending_data.csv')\n",
    "lending_data"
   ]
  },
  {
   "cell_type": "markdown",
   "metadata": {},
   "source": [
    "### Create X and y variables"
   ]
  },
  {
   "cell_type": "code",
   "execution_count": 3,
   "metadata": {},
   "outputs": [
    {
     "name": "stdout",
     "output_type": "stream",
     "text": [
      "Shape:  (77536, 7) (77536,)\n"
     ]
    }
   ],
   "source": [
    " # Assign the data to X and y - 'y' will be the target variable that we are trying to predict\n",
    "\n",
    "X = lending_data[['loan_size', 'interest_rate', 'borrower_income', 'debt_to_income', 'num_of_accounts', 'derogatory_marks', 'total_debt']]\n",
    "y = lending_data['loan_status']\n",
    "\n",
    "print(\"Shape=\", X.shape, y.shape)"
   ]
  },
  {
   "cell_type": "code",
   "execution_count": 4,
   "metadata": {},
   "outputs": [],
   "source": [
    "# Split the data into X_train, X_test, y_train, y_test\n",
    "\n",
    "from sklearn.model_selection import train_test_split\n",
    "\n",
    "X_train, X_test, y_train, y_test = train_test_split(X, y, random_state=1)"
   ]
  },
  {
   "cell_type": "code",
   "execution_count": 5,
   "metadata": {},
   "outputs": [
    {
     "data": {
      "text/html": [
       "<div>\n",
       "<style scoped>\n",
       "    .dataframe tbody tr th:only-of-type {\n",
       "        vertical-align: middle;\n",
       "    }\n",
       "\n",
       "    .dataframe tbody tr th {\n",
       "        vertical-align: top;\n",
       "    }\n",
       "\n",
       "    .dataframe thead th {\n",
       "        text-align: right;\n",
       "    }\n",
       "</style>\n",
       "<table border=\"1\" class=\"dataframe\">\n",
       "  <thead>\n",
       "    <tr style=\"text-align: right;\">\n",
       "      <th></th>\n",
       "      <th>loan_size</th>\n",
       "      <th>interest_rate</th>\n",
       "      <th>borrower_income</th>\n",
       "      <th>debt_to_income</th>\n",
       "      <th>num_of_accounts</th>\n",
       "      <th>derogatory_marks</th>\n",
       "      <th>total_debt</th>\n",
       "    </tr>\n",
       "  </thead>\n",
       "  <tbody>\n",
       "    <tr>\n",
       "      <th>29175</th>\n",
       "      <td>8600.0</td>\n",
       "      <td>6.792</td>\n",
       "      <td>44500</td>\n",
       "      <td>0.325843</td>\n",
       "      <td>3</td>\n",
       "      <td>0</td>\n",
       "      <td>14500</td>\n",
       "    </tr>\n",
       "    <tr>\n",
       "      <th>23020</th>\n",
       "      <td>7800.0</td>\n",
       "      <td>6.419</td>\n",
       "      <td>41000</td>\n",
       "      <td>0.268293</td>\n",
       "      <td>2</td>\n",
       "      <td>0</td>\n",
       "      <td>11000</td>\n",
       "    </tr>\n",
       "    <tr>\n",
       "      <th>31269</th>\n",
       "      <td>10000.0</td>\n",
       "      <td>7.386</td>\n",
       "      <td>50100</td>\n",
       "      <td>0.401198</td>\n",
       "      <td>4</td>\n",
       "      <td>1</td>\n",
       "      <td>20100</td>\n",
       "    </tr>\n",
       "    <tr>\n",
       "      <th>35479</th>\n",
       "      <td>9300.0</td>\n",
       "      <td>7.093</td>\n",
       "      <td>47300</td>\n",
       "      <td>0.365751</td>\n",
       "      <td>3</td>\n",
       "      <td>0</td>\n",
       "      <td>17300</td>\n",
       "    </tr>\n",
       "    <tr>\n",
       "      <th>13470</th>\n",
       "      <td>9200.0</td>\n",
       "      <td>7.045</td>\n",
       "      <td>46900</td>\n",
       "      <td>0.360341</td>\n",
       "      <td>3</td>\n",
       "      <td>0</td>\n",
       "      <td>16900</td>\n",
       "    </tr>\n",
       "    <tr>\n",
       "      <th>...</th>\n",
       "      <td>...</td>\n",
       "      <td>...</td>\n",
       "      <td>...</td>\n",
       "      <td>...</td>\n",
       "      <td>...</td>\n",
       "      <td>...</td>\n",
       "      <td>...</td>\n",
       "    </tr>\n",
       "    <tr>\n",
       "      <th>20609</th>\n",
       "      <td>7200.0</td>\n",
       "      <td>6.177</td>\n",
       "      <td>38700</td>\n",
       "      <td>0.224806</td>\n",
       "      <td>1</td>\n",
       "      <td>0</td>\n",
       "      <td>8700</td>\n",
       "    </tr>\n",
       "    <tr>\n",
       "      <th>21440</th>\n",
       "      <td>10000.0</td>\n",
       "      <td>7.389</td>\n",
       "      <td>50100</td>\n",
       "      <td>0.401198</td>\n",
       "      <td>4</td>\n",
       "      <td>1</td>\n",
       "      <td>20100</td>\n",
       "    </tr>\n",
       "    <tr>\n",
       "      <th>73349</th>\n",
       "      <td>10200.0</td>\n",
       "      <td>7.463</td>\n",
       "      <td>50800</td>\n",
       "      <td>0.409449</td>\n",
       "      <td>4</td>\n",
       "      <td>1</td>\n",
       "      <td>20800</td>\n",
       "    </tr>\n",
       "    <tr>\n",
       "      <th>50057</th>\n",
       "      <td>11100.0</td>\n",
       "      <td>7.838</td>\n",
       "      <td>54400</td>\n",
       "      <td>0.448529</td>\n",
       "      <td>5</td>\n",
       "      <td>1</td>\n",
       "      <td>24400</td>\n",
       "    </tr>\n",
       "    <tr>\n",
       "      <th>5192</th>\n",
       "      <td>10600.0</td>\n",
       "      <td>7.632</td>\n",
       "      <td>52400</td>\n",
       "      <td>0.427481</td>\n",
       "      <td>5</td>\n",
       "      <td>1</td>\n",
       "      <td>22400</td>\n",
       "    </tr>\n",
       "  </tbody>\n",
       "</table>\n",
       "<p>58152 rows × 7 columns</p>\n",
       "</div>"
      ],
      "text/plain": [
       "       loan_size  interest_rate  borrower_income  debt_to_income  \\\n",
       "29175     8600.0          6.792            44500        0.325843   \n",
       "23020     7800.0          6.419            41000        0.268293   \n",
       "31269    10000.0          7.386            50100        0.401198   \n",
       "35479     9300.0          7.093            47300        0.365751   \n",
       "13470     9200.0          7.045            46900        0.360341   \n",
       "...          ...            ...              ...             ...   \n",
       "20609     7200.0          6.177            38700        0.224806   \n",
       "21440    10000.0          7.389            50100        0.401198   \n",
       "73349    10200.0          7.463            50800        0.409449   \n",
       "50057    11100.0          7.838            54400        0.448529   \n",
       "5192     10600.0          7.632            52400        0.427481   \n",
       "\n",
       "       num_of_accounts  derogatory_marks  total_debt  \n",
       "29175                3                 0       14500  \n",
       "23020                2                 0       11000  \n",
       "31269                4                 1       20100  \n",
       "35479                3                 0       17300  \n",
       "13470                3                 0       16900  \n",
       "...                ...               ...         ...  \n",
       "20609                1                 0        8700  \n",
       "21440                4                 1       20100  \n",
       "73349                4                 1       20800  \n",
       "50057                5                 1       24400  \n",
       "5192                 5                 1       22400  \n",
       "\n",
       "[58152 rows x 7 columns]"
      ]
     },
     "execution_count": 5,
     "metadata": {},
     "output_type": "execute_result"
    }
   ],
   "source": [
    "X_train"
   ]
  },
  {
   "cell_type": "code",
   "execution_count": 49,
   "metadata": {},
   "outputs": [
    {
     "data": {
      "text/html": [
       "<div>\n",
       "<style scoped>\n",
       "    .dataframe tbody tr th:only-of-type {\n",
       "        vertical-align: middle;\n",
       "    }\n",
       "\n",
       "    .dataframe tbody tr th {\n",
       "        vertical-align: top;\n",
       "    }\n",
       "\n",
       "    .dataframe thead th {\n",
       "        text-align: right;\n",
       "    }\n",
       "</style>\n",
       "<table border=\"1\" class=\"dataframe\">\n",
       "  <thead>\n",
       "    <tr style=\"text-align: right;\">\n",
       "      <th></th>\n",
       "      <th>loan_size</th>\n",
       "      <th>interest_rate</th>\n",
       "      <th>borrower_income</th>\n",
       "      <th>debt_to_income</th>\n",
       "      <th>num_of_accounts</th>\n",
       "      <th>derogatory_marks</th>\n",
       "      <th>total_debt</th>\n",
       "    </tr>\n",
       "  </thead>\n",
       "  <tbody>\n",
       "    <tr>\n",
       "      <th>60914</th>\n",
       "      <td>12600.0</td>\n",
       "      <td>8.469</td>\n",
       "      <td>60300</td>\n",
       "      <td>0.502488</td>\n",
       "      <td>6</td>\n",
       "      <td>1</td>\n",
       "      <td>30300</td>\n",
       "    </tr>\n",
       "    <tr>\n",
       "      <th>36843</th>\n",
       "      <td>9800.0</td>\n",
       "      <td>7.289</td>\n",
       "      <td>49200</td>\n",
       "      <td>0.390244</td>\n",
       "      <td>4</td>\n",
       "      <td>0</td>\n",
       "      <td>19200</td>\n",
       "    </tr>\n",
       "    <tr>\n",
       "      <th>1966</th>\n",
       "      <td>10900.0</td>\n",
       "      <td>7.770</td>\n",
       "      <td>53700</td>\n",
       "      <td>0.441341</td>\n",
       "      <td>5</td>\n",
       "      <td>1</td>\n",
       "      <td>23700</td>\n",
       "    </tr>\n",
       "    <tr>\n",
       "      <th>70137</th>\n",
       "      <td>10700.0</td>\n",
       "      <td>7.666</td>\n",
       "      <td>52700</td>\n",
       "      <td>0.430740</td>\n",
       "      <td>5</td>\n",
       "      <td>1</td>\n",
       "      <td>22700</td>\n",
       "    </tr>\n",
       "    <tr>\n",
       "      <th>27237</th>\n",
       "      <td>9900.0</td>\n",
       "      <td>7.353</td>\n",
       "      <td>49800</td>\n",
       "      <td>0.397590</td>\n",
       "      <td>4</td>\n",
       "      <td>0</td>\n",
       "      <td>19800</td>\n",
       "    </tr>\n",
       "    <tr>\n",
       "      <th>...</th>\n",
       "      <td>...</td>\n",
       "      <td>...</td>\n",
       "      <td>...</td>\n",
       "      <td>...</td>\n",
       "      <td>...</td>\n",
       "      <td>...</td>\n",
       "      <td>...</td>\n",
       "    </tr>\n",
       "    <tr>\n",
       "      <th>45639</th>\n",
       "      <td>9900.0</td>\n",
       "      <td>7.328</td>\n",
       "      <td>49600</td>\n",
       "      <td>0.395161</td>\n",
       "      <td>4</td>\n",
       "      <td>0</td>\n",
       "      <td>19600</td>\n",
       "    </tr>\n",
       "    <tr>\n",
       "      <th>11301</th>\n",
       "      <td>9900.0</td>\n",
       "      <td>7.317</td>\n",
       "      <td>49500</td>\n",
       "      <td>0.393939</td>\n",
       "      <td>4</td>\n",
       "      <td>0</td>\n",
       "      <td>19500</td>\n",
       "    </tr>\n",
       "    <tr>\n",
       "      <th>51614</th>\n",
       "      <td>8000.0</td>\n",
       "      <td>6.520</td>\n",
       "      <td>42000</td>\n",
       "      <td>0.285714</td>\n",
       "      <td>2</td>\n",
       "      <td>0</td>\n",
       "      <td>12000</td>\n",
       "    </tr>\n",
       "    <tr>\n",
       "      <th>4598</th>\n",
       "      <td>11500.0</td>\n",
       "      <td>8.001</td>\n",
       "      <td>55900</td>\n",
       "      <td>0.463327</td>\n",
       "      <td>5</td>\n",
       "      <td>1</td>\n",
       "      <td>25900</td>\n",
       "    </tr>\n",
       "    <tr>\n",
       "      <th>2793</th>\n",
       "      <td>9200.0</td>\n",
       "      <td>7.024</td>\n",
       "      <td>46700</td>\n",
       "      <td>0.357602</td>\n",
       "      <td>3</td>\n",
       "      <td>0</td>\n",
       "      <td>16700</td>\n",
       "    </tr>\n",
       "  </tbody>\n",
       "</table>\n",
       "<p>19384 rows × 7 columns</p>\n",
       "</div>"
      ],
      "text/plain": [
       "       loan_size  interest_rate  borrower_income  debt_to_income  \\\n",
       "60914    12600.0          8.469            60300        0.502488   \n",
       "36843     9800.0          7.289            49200        0.390244   \n",
       "1966     10900.0          7.770            53700        0.441341   \n",
       "70137    10700.0          7.666            52700        0.430740   \n",
       "27237     9900.0          7.353            49800        0.397590   \n",
       "...          ...            ...              ...             ...   \n",
       "45639     9900.0          7.328            49600        0.395161   \n",
       "11301     9900.0          7.317            49500        0.393939   \n",
       "51614     8000.0          6.520            42000        0.285714   \n",
       "4598     11500.0          8.001            55900        0.463327   \n",
       "2793      9200.0          7.024            46700        0.357602   \n",
       "\n",
       "       num_of_accounts  derogatory_marks  total_debt  \n",
       "60914                6                 1       30300  \n",
       "36843                4                 0       19200  \n",
       "1966                 5                 1       23700  \n",
       "70137                5                 1       22700  \n",
       "27237                4                 0       19800  \n",
       "...                ...               ...         ...  \n",
       "45639                4                 0       19600  \n",
       "11301                4                 0       19500  \n",
       "51614                2                 0       12000  \n",
       "4598                 5                 1       25900  \n",
       "2793                 3                 0       16700  \n",
       "\n",
       "[19384 rows x 7 columns]"
      ]
     },
     "execution_count": 49,
     "metadata": {},
     "output_type": "execute_result"
    }
   ],
   "source": [
    "X_test"
   ]
  },
  {
   "cell_type": "markdown",
   "metadata": {},
   "source": [
    "# Logistic Regression Model"
   ]
  },
  {
   "cell_type": "code",
   "execution_count": 6,
   "metadata": {},
   "outputs": [
    {
     "data": {
      "text/plain": [
       "LogisticRegression()"
      ]
     },
     "execution_count": 6,
     "metadata": {},
     "output_type": "execute_result"
    }
   ],
   "source": [
    "# Train the Logistic Regression model\n",
    "from sklearn.linear_model import LogisticRegression\n",
    "classifier = LogisticRegression()\n",
    "classifier"
   ]
  },
  {
   "cell_type": "code",
   "execution_count": 9,
   "metadata": {},
   "outputs": [
    {
     "data": {
      "text/plain": [
       "LogisticRegression()"
      ]
     },
     "execution_count": 9,
     "metadata": {},
     "output_type": "execute_result"
    }
   ],
   "source": [
    "classifier.fit(X_train,y_train)"
   ]
  },
  {
   "cell_type": "markdown",
   "metadata": {},
   "source": [
    "### Predictions & Score"
   ]
  },
  {
   "cell_type": "code",
   "execution_count": 41,
   "metadata": {},
   "outputs": [
    {
     "data": {
      "text/plain": [
       "array([0, 0, 0, ..., 0, 0, 0], dtype=int64)"
      ]
     },
     "execution_count": 41,
     "metadata": {},
     "output_type": "execute_result"
    }
   ],
   "source": [
    "# make predictions using X_test\n",
    "y_prediction = classifier.predict(X_test)\n",
    "y_prediction"
   ]
  },
  {
   "cell_type": "code",
   "execution_count": 50,
   "metadata": {},
   "outputs": [
    {
     "data": {
      "text/plain": [
       "array([0, 0, 0, ..., 0, 0, 0], dtype=int64)"
      ]
     },
     "execution_count": 50,
     "metadata": {},
     "output_type": "execute_result"
    }
   ],
   "source": [
    "#Make predictions using X_train\n",
    "training_pred = classifier.predict(X_train)\n",
    "training_pred"
   ]
  },
  {
   "cell_type": "code",
   "execution_count": 54,
   "metadata": {},
   "outputs": [
    {
     "name": "stdout",
     "output_type": "stream",
     "text": [
      "Accuracy score (test): 0.9918489475856377\n",
      "Accuracy score (training): 0.9921240885954051\n"
     ]
    }
   ],
   "source": [
    "### Accuracy scores \n",
    "from sklearn import metrics\n",
    "accuracy_score = metrics.accuracy_score(y_test, y_prediction)\n",
    "accuracy_score2 = metrics.accuracy_score(y_train, training_pred)\n",
    "\n",
    "\n",
    "print(f\"Accuracy score (test): {accuracy_score}\")\n",
    "print(f\"Accuracy score (training): {accuracy_score2}\")"
   ]
  },
  {
   "cell_type": "code",
   "execution_count": 14,
   "metadata": {},
   "outputs": [],
   "source": [
    "# Print the model scores\n",
    "test_score = classifier.score(X_test,y_test)"
   ]
  },
  {
   "cell_type": "code",
   "execution_count": 12,
   "metadata": {},
   "outputs": [],
   "source": [
    "training_score = classifier.score(X_train,y_train)"
   ]
  },
  {
   "cell_type": "code",
   "execution_count": 57,
   "metadata": {},
   "outputs": [
    {
     "name": "stdout",
     "output_type": "stream",
     "text": [
      "The score of the training data is: 0.9921240885954051\n",
      "The score of the test data is: 0.9918489475856377\n"
     ]
    }
   ],
   "source": [
    "print(f\"The score of the training data is: {training_score}\")\n",
    "print(f\"The score of the test data is: {test_score}\") # the model hasnt seen test before"
   ]
  },
  {
   "cell_type": "code",
   "execution_count": 69,
   "metadata": {},
   "outputs": [
    {
     "name": "stdout",
     "output_type": "stream",
     "text": [
      "Actual list:   [0, 0, 0, 0, 0, 0, 0, 0, 0, 0, 1, 0, 1, 0, 0, 0, 0, 0, 0, 0]\n",
      "Predicted list:[0, 0, 0, 0, 0, 0, 0, 0, 0, 0, 1, 0, 1, 0, 0, 0, 0, 0, 0, 0]\n"
     ]
    }
   ],
   "source": [
    "print(f'Actual list:   {list(y_test[:20])}')\n",
    "print(f'Predicted list:{list(classifier.predict(X_test[:20]))}')"
   ]
  },
  {
   "cell_type": "markdown",
   "metadata": {},
   "source": [
    "# RandomForestClassifier"
   ]
  },
  {
   "cell_type": "code",
   "execution_count": 27,
   "metadata": {},
   "outputs": [],
   "source": [
    "from sklearn.tree import DecisionTreeClassifier\n",
    "from sklearn.ensemble import RandomForestClassifier\n",
    "from sklearn.utils import resample \n",
    "from sklearn.metrics import accuracy_score"
   ]
  },
  {
   "cell_type": "code",
   "execution_count": 36,
   "metadata": {},
   "outputs": [
    {
     "data": {
      "text/plain": [
       "RandomForestClassifier(n_estimators=55, random_state=1)"
      ]
     },
     "execution_count": 36,
     "metadata": {},
     "output_type": "execute_result"
    }
   ],
   "source": [
    "#Train a RandomClassifier Model using 55 random trees\n",
    "model = RandomForestClassifier(random_state=1, n_estimators=55).fit(X_train, y_train)\n",
    "model.fit(X_train, y_train)"
   ]
  },
  {
   "cell_type": "markdown",
   "metadata": {},
   "source": [
    "### Predictions & Score"
   ]
  },
  {
   "cell_type": "code",
   "execution_count": 44,
   "metadata": {},
   "outputs": [
    {
     "data": {
      "text/plain": [
       "array([0, 0, 0, ..., 0, 0, 0], dtype=int64)"
      ]
     },
     "execution_count": 44,
     "metadata": {},
     "output_type": "execute_result"
    }
   ],
   "source": [
    "#Make predictions for using X test\n",
    "y_pred = model.predict(X_test)\n",
    "y_pred"
   ]
  },
  {
   "cell_type": "code",
   "execution_count": 47,
   "metadata": {},
   "outputs": [
    {
     "data": {
      "text/plain": [
       "array([0, 0, 0, ..., 0, 0, 0], dtype=int64)"
      ]
     },
     "execution_count": 47,
     "metadata": {},
     "output_type": "execute_result"
    }
   ],
   "source": [
    "#Make predictions using X_train\n",
    "training_pred2 = model.predict(X_train)\n",
    "training_pred2"
   ]
  },
  {
   "cell_type": "code",
   "execution_count": 55,
   "metadata": {},
   "outputs": [
    {
     "name": "stdout",
     "output_type": "stream",
     "text": [
      "The score of the training data is: 0.9910235245563351\n",
      "The score of the test data is: 0.9974893382858715\n"
     ]
    }
   ],
   "source": [
    "### Testing accuracy score\n",
    "accuracy_score3 = metrics.accuracy_score(y_test, y_pred)\n",
    "accuracy_score4 = metrics.accuracy_score(y_train, training_pred2)\n",
    "\n",
    "\n",
    "print(f\"The score of the training data is: {accuracy_score3}\")\n",
    "print(f\"The score of the test data is: {accuracy_score4}\")"
   ]
  },
  {
   "cell_type": "code",
   "execution_count": 71,
   "metadata": {},
   "outputs": [
    {
     "name": "stdout",
     "output_type": "stream",
     "text": [
      "The RandomForest testing Score is  0.9910235245563351\n",
      "The RandomForest training Score is 0.9974893382858715\n"
     ]
    }
   ],
   "source": [
    "print(f'The RandomForest testing Score is  {model.score(X_test, y_test)}')\n",
    "print(f'The RandomForest training Score is {model.score(X_train, y_train)}')"
   ]
  },
  {
   "cell_type": "code",
   "execution_count": 68,
   "metadata": {},
   "outputs": [
    {
     "name": "stdout",
     "output_type": "stream",
     "text": [
      "Actual:   [0, 0, 0, 0, 0, 0, 0, 0, 0, 0, 1, 0, 1, 0, 0, 0, 0, 0, 0, 0, 0, 0, 0, 0, 0, 0, 0, 0, 1, 0]\n",
      "Predicted:[0, 0, 0, 0, 0, 0, 0, 0, 0, 0, 1, 0, 1, 0, 0, 0, 0, 0, 0, 0, 0, 0, 0, 0, 0, 0, 0, 0, 1, 0]\n"
     ]
    }
   ],
   "source": [
    "print(f'Actual:   {list(y_test[:30])}')\n",
    "print(f'Predicted:{list(model.predict(X_test[:30]))}')"
   ]
  },
  {
   "cell_type": "code",
   "execution_count": null,
   "metadata": {},
   "outputs": [],
   "source": []
  },
  {
   "cell_type": "code",
   "execution_count": null,
   "metadata": {},
   "outputs": [],
   "source": []
  },
  {
   "cell_type": "code",
   "execution_count": null,
   "metadata": {},
   "outputs": [],
   "source": []
  },
  {
   "cell_type": "code",
   "execution_count": null,
   "metadata": {},
   "outputs": [],
   "source": []
  },
  {
   "cell_type": "code",
   "execution_count": null,
   "metadata": {},
   "outputs": [],
   "source": []
  }
 ],
 "metadata": {
  "kernelspec": {
   "display_name": "Python 3 (ipykernel)",
   "language": "python",
   "name": "python3"
  },
  "language_info": {
   "codemirror_mode": {
    "name": "ipython",
    "version": 3
   },
   "file_extension": ".py",
   "mimetype": "text/x-python",
   "name": "python",
   "nbconvert_exporter": "python",
   "pygments_lexer": "ipython3",
   "version": "3.7.7"
  }
 },
 "nbformat": 4,
 "nbformat_minor": 4
}
